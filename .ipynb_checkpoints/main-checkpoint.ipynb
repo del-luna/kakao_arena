{
 "cells": [
  {
   "cell_type": "markdown",
   "metadata": {},
   "source": [
    "## Task list\n",
    "- data pipeline\n",
    "- How many candidates consider? -> song,tag = (5K,100)?\n",
    "- add remote repository \n",
    "<br>\n",
    "\n",
    "## First Stage\n",
    "\n",
    "- [WRMF](http://yifanhu.net/PUB/cf.pdf)\n",
    "- User-USer\n",
    "- Item-Item\n",
    "- W2V\n",
    "- Blending\n",
    "\n",
    "## Second Stage\n",
    "- XGBoost(with Ranking loss)\n",
    "\n",
    "\n",
    "<br>\n",
    "\n",
    "일단 Melon_generator 쓰지말고 candidate만 뽑기,"
   ]
  },
  {
   "cell_type": "code",
   "execution_count": 1,
   "metadata": {},
   "outputs": [],
   "source": [
    "#import json\n",
    "#from Melon_data import *\n",
    "from preprocess import dataprocessing\n",
    "from tqdm import tqdm\n",
    "from ALS import *"
   ]
  },
  {
   "cell_type": "code",
   "execution_count": null,
   "metadata": {
    "scrolled": true
   },
   "outputs": [
    {
     "name": "stderr",
     "output_type": "stream",
     "text": [
      "WARNING:root:Intel MKL BLAS detected. Its highly recommend to set the environment variable 'export MKL_NUM_THREADS=1' to disable its internal multithreading\n"
     ]
    },
    {
     "name": "stdout",
     "output_type": "stream",
     "text": [
      "rating matrix shape is: (115071, 644302)\n",
      "Total time to preprocessing: 15.393\n"
     ]
    },
    {
     "data": {
      "application/vnd.jupyter.widget-view+json": {
       "model_id": "0c0dcf11759e4f6591784880e0da12d4",
       "version_major": 2,
       "version_minor": 0
      },
      "text/plain": [
       "HBox(children=(FloatProgress(value=0.0, max=15.0), HTML(value='')))"
      ]
     },
     "metadata": {},
     "output_type": "display_data"
    },
    {
     "name": "stdout",
     "output_type": "stream",
     "text": [
      "\n"
     ]
    },
    {
     "data": {
      "application/vnd.jupyter.widget-view+json": {
       "model_id": "17b0568345e744ecaa9c0a62858043cf",
       "version_major": 2,
       "version_minor": 0
      },
      "text/plain": [
       "HBox(children=(FloatProgress(value=0.0, max=115071.0), HTML(value='')))"
      ]
     },
     "metadata": {},
     "output_type": "display_data"
    }
   ],
   "source": [
    "path = '../data'\n",
    "melon = dataprocessing(path) \n",
    "#인스턴스 네임 추천 ㄱㄱ\n",
    "#데이터 전처리 및 지역변수로 데이터 선언해서 사용하는 클래스 임시로 melon 이라고 해둠.\n",
    "#als, item, tag = als_run(melon.train_mtx, melon.n_items, melon.tr_mtx, melon.te_mtx, melon.idx_to_sid, melon.idx_to_tag)    \n",
    "\n",
    "melon.run()\n",
    "item_rec, tag_rec = als_run(melon.train_mtx, melon.n_items)"
   ]
  },
  {
   "cell_type": "code",
   "execution_count": null,
   "metadata": {},
   "outputs": [],
   "source": [
    "save_mtx = []\n",
    "for _id, item, tag in zip(melon.tr_ids, item_rec, tag_rec):\n",
    "    save_mtx.append({\n",
    "        'id': _id,\n",
    "        'songs': item,\n",
    "        'tags': tag\n",
    "    })\n",
    "import json\n",
    "with open('candidate_matrix','w',encoding='utf-8') as f:\n",
    "    f.write(json.dumps(save_mtx, ensure_ascii=False))"
   ]
  },
  {
   "cell_type": "code",
   "execution_count": null,
   "metadata": {},
   "outputs": [],
   "source": []
  },
  {
   "cell_type": "code",
   "execution_count": null,
   "metadata": {},
   "outputs": [],
   "source": []
  },
  {
   "cell_type": "code",
   "execution_count": null,
   "metadata": {},
   "outputs": [],
   "source": []
  },
  {
   "cell_type": "code",
   "execution_count": null,
   "metadata": {},
   "outputs": [],
   "source": []
  },
  {
   "cell_type": "code",
   "execution_count": null,
   "metadata": {},
   "outputs": [],
   "source": []
  },
  {
   "cell_type": "code",
   "execution_count": null,
   "metadata": {},
   "outputs": [],
   "source": []
  },
  {
   "cell_type": "code",
   "execution_count": null,
   "metadata": {},
   "outputs": [],
   "source": []
  },
  {
   "cell_type": "code",
   "execution_count": null,
   "metadata": {},
   "outputs": [],
   "source": []
  },
  {
   "cell_type": "code",
   "execution_count": null,
   "metadata": {},
   "outputs": [],
   "source": []
  }
 ],
 "metadata": {
  "kernelspec": {
   "display_name": "Python 3",
   "language": "python",
   "name": "python3"
  },
  "language_info": {
   "codemirror_mode": {
    "name": "ipython",
    "version": 3
   },
   "file_extension": ".py",
   "mimetype": "text/x-python",
   "name": "python",
   "nbconvert_exporter": "python",
   "pygments_lexer": "ipython3",
   "version": "3.8.2"
  }
 },
 "nbformat": 4,
 "nbformat_minor": 4
}
