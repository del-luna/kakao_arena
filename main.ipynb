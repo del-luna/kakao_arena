{
 "cells": [
  {
   "cell_type": "markdown",
   "metadata": {},
   "source": [
    "## Task list\n",
    "- data pipeline\n",
    "- How many candidates consider? -> song,tag = (1K,100)?\n",
    "- add remote repository \n",
    "<br>\n",
    "\n",
    "## First Stage\n",
    "\n",
    "- [WRMF](http://yifanhu.net/PUB/cf.pdf)\n",
    "- User-USer\n",
    "- Item-Item\n",
    "- W2V\n",
    "- Blending\n",
    "\n",
    "## Second Stage\n",
    "- XGBoost(with Ranking loss)"
   ]
  },
  {
   "cell_type": "code",
   "execution_count": 1,
   "metadata": {},
   "outputs": [],
   "source": [
    "import json\n",
    "from Melon_data import *\n",
    "from ALS import *"
   ]
  },
  {
   "cell_type": "code",
   "execution_count": 2,
   "metadata": {
    "scrolled": false
   },
   "outputs": [
    {
     "name": "stderr",
     "output_type": "stream",
     "text": [
      "100%|██████████| 4379/4379 [01:49<00:00, 40.12it/s]\n",
      "100%|██████████| 4379/4379 [00:23<00:00, 190.04it/s]\n",
      "WARNING:root:Intel MKL BLAS detected. Its highly recommend to set the environment variable 'export MKL_NUM_THREADS=1' to disable its internal multithreading\n"
     ]
    },
    {
     "name": "stdout",
     "output_type": "stream",
     "text": [
      "rating matrix shape is : (138086, 644302)\n",
      "Time taken for Preprocessing: 16 3\n"
     ]
    },
    {
     "data": {
      "application/vnd.jupyter.widget-view+json": {
       "model_id": "e605e67d7fac48d49a8e322d624d1e73",
       "version_major": 2,
       "version_minor": 0
      },
      "text/plain": [
       "HBox(children=(FloatProgress(value=0.0, max=15.0), HTML(value='')))"
      ]
     },
     "metadata": {},
     "output_type": "display_data"
    },
    {
     "name": "stdout",
     "output_type": "stream",
     "text": [
      "\n"
     ]
    },
    {
     "data": {
      "application/vnd.jupyter.widget-view+json": {
       "model_id": "aa71ce9723474bd98585103a659fe173",
       "version_major": 2,
       "version_minor": 0
      },
      "text/plain": [
       "HBox(children=(FloatProgress(value=0.0, max=23015.0), HTML(value='')))"
      ]
     },
     "metadata": {},
     "output_type": "display_data"
    },
    {
     "name": "stdout",
     "output_type": "stream",
     "text": [
      "\n"
     ]
    }
   ],
   "source": [
    "path = '../data'\n",
    "melon = Melon_generator(path+'/real_train.json',path+'/real_val.json')\n",
    "melon.run()\n",
    "item, tag = als_run(melon.r, melon.n_items, melon.tr_mtx, melon.te_mtx, melon.idx_to_sid, melon.idx_to_tag)    "
   ]
  },
  {
   "cell_type": "code",
   "execution_count": 14,
   "metadata": {},
   "outputs": [],
   "source": [
    "te_ids = melon.te_ids #id list\n",
    "total = [i+t for i,t in zip(item,tag)]"
   ]
  },
  {
   "cell_type": "code",
   "execution_count": null,
   "metadata": {},
   "outputs": [],
   "source": []
  }
 ],
 "metadata": {
  "kernelspec": {
   "display_name": "Python 3",
   "language": "python",
   "name": "python3"
  },
  "language_info": {
   "codemirror_mode": {
    "name": "ipython",
    "version": 3
   },
   "file_extension": ".py",
   "mimetype": "text/x-python",
   "name": "python",
   "nbconvert_exporter": "python",
   "pygments_lexer": "ipython3",
   "version": "3.8.2"
  }
 },
 "nbformat": 4,
 "nbformat_minor": 4
}
